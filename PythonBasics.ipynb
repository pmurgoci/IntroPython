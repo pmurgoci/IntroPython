{
  "nbformat": 4,
  "nbformat_minor": 0,
  "metadata": {
    "colab": {
      "provenance": [],
      "authorship_tag": "ABX9TyMnZMnBTH0zskWU/t/zsmV0",
      "include_colab_link": true
    },
    "kernelspec": {
      "name": "python3",
      "display_name": "Python 3"
    },
    "language_info": {
      "name": "python"
    }
  },
  "cells": [
    {
      "cell_type": "markdown",
      "metadata": {
        "id": "view-in-github",
        "colab_type": "text"
      },
      "source": [
        "<a href=\"https://colab.research.google.com/github/pmurgoci/IntroPython/blob/main/PythonBasics.ipynb\" target=\"_parent\"><img src=\"https://colab.research.google.com/assets/colab-badge.svg\" alt=\"Open In Colab\"/></a>"
      ]
    },
    {
      "cell_type": "markdown",
      "source": [
        "### This Notebook Shows Python Basics\n",
        "\n",
        "Colab & Jupyter provides the ability to make **notebooks**. Notebooks allow you to create *text* and *code* cells. Text cells support MarkDown. Code cells require python.\n",
        "\n",
        "**Python Datatypes**\n",
        "* int\n",
        "* str\n",
        "* float\n",
        "* boolean"
      ],
      "metadata": {
        "id": "OmTglQrq9NI2"
      }
    },
    {
      "cell_type": "code",
      "source": [
        "x = 5           # int\n",
        "s = 'hello'     # str\n",
        "temp = 98.6     # float\n",
        "iAmSam = False  # bool\n",
        "y = '98.6'\n",
        "print(x + temp)"
      ],
      "metadata": {
        "colab": {
          "base_uri": "https://localhost:8080/"
        },
        "id": "dEbb1yuPM9OF",
        "outputId": "f135ed3b-f54b-485e-ded9-d197fcca6455"
      },
      "execution_count": 1,
      "outputs": [
        {
          "output_type": "stream",
          "name": "stdout",
          "text": [
            "103.6\n"
          ]
        }
      ]
    },
    {
      "cell_type": "markdown",
      "source": [
        "**Python Collection Types**\n",
        "* list - ordered, indexed, like an array, mutable\n",
        "* tuple - immutable list\n",
        "* dict - a hashtable, a set of key,value data pairs"
      ],
      "metadata": {
        "id": "QQaJMd8jNkZa"
      }
    },
    {
      "cell_type": "code",
      "source": [
        "my_list = ['I', 'love', 'CIS']\n",
        "my_list[2] = 'Finance'\n",
        "print(my_list[2])\n",
        "my_list2 = [3, 'hello', 'frogs', 4.3, True]\n",
        "my_tuple = ('Purple', 'Eagles')\n",
        "\n",
        "example_dict = {'triangle':3, 'square':4, 'septagon':7}\n",
        "example_dict['decagon'] = 10\n",
        "print(example_dict['septagon'])"
      ],
      "metadata": {
        "id": "dM22luSdNnMo"
      },
      "execution_count": null,
      "outputs": []
    },
    {
      "cell_type": "code",
      "execution_count": null,
      "metadata": {
        "colab": {
          "base_uri": "https://localhost:8080/"
        },
        "id": "DNIzc0Kv7kbD",
        "outputId": "5cd84e7d-49c4-48ac-cee0-0519364fd598"
      },
      "outputs": [
        {
          "output_type": "stream",
          "name": "stdout",
          "text": [
            "Hello world!\n"
          ]
        }
      ],
      "source": [
        "print('Hello world!')"
      ]
    },
    {
      "cell_type": "markdown",
      "source": [
        "## The Representation Problem\n",
        "\n",
        "How do we code states and actions of a real world problem in a programming language.\n",
        "\n",
        "\n",
        "**PEAS**\n",
        "\n",
        "* Performance measure\n",
        "* Environment\n",
        "  * includes **state** and\n",
        "  * rules for how **actions** update the state\n",
        "* Actions\n",
        "* Sensors - the portion of the world state that the agent can see\n",
        "\n",
        "* Agent - an autonomous program that sees through the sensors and determines actions\n",
        "\n",
        "\n",
        "continuous vs. discreet\n",
        "\n",
        "\n",
        "#### Example: Farmer, Wolf, Sheep, Oats, River problem"
      ],
      "metadata": {
        "id": "eBzgsQefOQfV"
      }
    },
    {
      "cell_type": "code",
      "source": [
        "# STATE\n",
        "farmer_is_on_top = True\n",
        "wolf_is_on_top = True\n",
        "sheep_is_on_top = True\n",
        "oats_is_on_top = True\n",
        "\n",
        "oats_is_intact = True\n",
        "sheep_is_alive = True\n",
        "\n",
        "def print_state():\n",
        "  \"\"\" Prints all the parties on top of river bank, followed by =======,\n",
        "  then all parties below the river bank \"\"\"\n",
        "  # TODO\n",
        "  if farmer_is_on_top == True:\n",
        "    print('FARMER')\n",
        "  if wolf_is_on_top:\n",
        "    print('WOLF')\n",
        "  if sheep_is_on_top:\n",
        "    print('SHEEP')\n",
        "  print('OATS' if oats_is_on_top else '')\n",
        "  print('==================')\n",
        "\n",
        "  # TODO\n",
        "  if farmer_is_on_top != True:\n",
        "    print('FARMER')\n",
        "  if not wolf_is_on_top:\n",
        "    print('WOLF')\n",
        "  if not sheep_is_on_top:\n",
        "    print('SHEEP')\n",
        "  print('OATS' if not oats_is_on_top else '')\n",
        "\n",
        "\n",
        "\n",
        "# ACTIONS\n",
        "\n",
        "def move(thing):\n",
        "  \"\"\" Updates STATE variables given that the farmer moves thing.\n",
        "  thing must be one of 'wolf', 'sheep', 'oats' \"\"\"\n",
        "  # TODO\n",
        "\n",
        "###########\n",
        "print_state()\n"
      ],
      "metadata": {
        "colab": {
          "base_uri": "https://localhost:8080/"
        },
        "id": "mTaEm1JlOlxq",
        "outputId": "c5b39bc7-09a6-42a3-8086-355103314fdd"
      },
      "execution_count": 16,
      "outputs": [
        {
          "output_type": "stream",
          "name": "stdout",
          "text": [
            "FARMER\n",
            "WOLF\n",
            "SHEEP\n",
            "OATS\n",
            "==================\n",
            "\n"
          ]
        }
      ]
    }
  ]
}